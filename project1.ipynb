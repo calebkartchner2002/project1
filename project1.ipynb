{
 "cells": [
  {
   "cell_type": "markdown",
   "metadata": {},
   "source": [
    "Caleb - Looking at salaries of baseball players over time\n",
    "\n"
   ]
  },
  {
   "cell_type": "code",
   "execution_count": 78,
   "metadata": {},
   "outputs": [],
   "source": [
    "import pandas as pd\n",
    "import numpy as np\n",
    "from matplotlib import pyplot as plt\n",
    "import scipy.stats as stats\n",
    "import seaborn as sns"
   ]
  },
  {
   "cell_type": "code",
   "execution_count": 79,
   "metadata": {},
   "outputs": [
    {
     "data": {
      "text/html": [
       "<div>\n",
       "<style scoped>\n",
       "    .dataframe tbody tr th:only-of-type {\n",
       "        vertical-align: middle;\n",
       "    }\n",
       "\n",
       "    .dataframe tbody tr th {\n",
       "        vertical-align: top;\n",
       "    }\n",
       "\n",
       "    .dataframe thead th {\n",
       "        text-align: right;\n",
       "    }\n",
       "</style>\n",
       "<table border=\"1\" class=\"dataframe\">\n",
       "  <thead>\n",
       "    <tr style=\"text-align: right;\">\n",
       "      <th></th>\n",
       "      <th>yearID</th>\n",
       "      <th>teamID</th>\n",
       "      <th>lgID</th>\n",
       "      <th>playerID</th>\n",
       "      <th>salary</th>\n",
       "      <th>stint</th>\n",
       "      <th>G</th>\n",
       "      <th>AB</th>\n",
       "      <th>R</th>\n",
       "      <th>H</th>\n",
       "      <th>...</th>\n",
       "      <th>RBI</th>\n",
       "      <th>SB</th>\n",
       "      <th>CS</th>\n",
       "      <th>BB</th>\n",
       "      <th>SO</th>\n",
       "      <th>IBB</th>\n",
       "      <th>HBP</th>\n",
       "      <th>SH</th>\n",
       "      <th>SF</th>\n",
       "      <th>GIDP</th>\n",
       "    </tr>\n",
       "  </thead>\n",
       "  <tbody>\n",
       "    <tr>\n",
       "      <th>0</th>\n",
       "      <td>1985</td>\n",
       "      <td>ATL</td>\n",
       "      <td>NL</td>\n",
       "      <td>barkele01</td>\n",
       "      <td>870000</td>\n",
       "      <td>1</td>\n",
       "      <td>20</td>\n",
       "      <td>17</td>\n",
       "      <td>0</td>\n",
       "      <td>0</td>\n",
       "      <td>...</td>\n",
       "      <td>0.0</td>\n",
       "      <td>0.0</td>\n",
       "      <td>1.0</td>\n",
       "      <td>0</td>\n",
       "      <td>7.0</td>\n",
       "      <td>0.0</td>\n",
       "      <td>0.0</td>\n",
       "      <td>0.0</td>\n",
       "      <td>0.0</td>\n",
       "      <td>0.0</td>\n",
       "    </tr>\n",
       "    <tr>\n",
       "      <th>1</th>\n",
       "      <td>1985</td>\n",
       "      <td>ATL</td>\n",
       "      <td>NL</td>\n",
       "      <td>bedrost01</td>\n",
       "      <td>550000</td>\n",
       "      <td>1</td>\n",
       "      <td>37</td>\n",
       "      <td>64</td>\n",
       "      <td>3</td>\n",
       "      <td>5</td>\n",
       "      <td>...</td>\n",
       "      <td>1.0</td>\n",
       "      <td>0.0</td>\n",
       "      <td>0.0</td>\n",
       "      <td>1</td>\n",
       "      <td>22.0</td>\n",
       "      <td>0.0</td>\n",
       "      <td>0.0</td>\n",
       "      <td>6.0</td>\n",
       "      <td>0.0</td>\n",
       "      <td>0.0</td>\n",
       "    </tr>\n",
       "    <tr>\n",
       "      <th>2</th>\n",
       "      <td>1985</td>\n",
       "      <td>ATL</td>\n",
       "      <td>NL</td>\n",
       "      <td>benedbr01</td>\n",
       "      <td>545000</td>\n",
       "      <td>1</td>\n",
       "      <td>70</td>\n",
       "      <td>208</td>\n",
       "      <td>12</td>\n",
       "      <td>42</td>\n",
       "      <td>...</td>\n",
       "      <td>20.0</td>\n",
       "      <td>0.0</td>\n",
       "      <td>1.0</td>\n",
       "      <td>22</td>\n",
       "      <td>12.0</td>\n",
       "      <td>1.0</td>\n",
       "      <td>1.0</td>\n",
       "      <td>4.0</td>\n",
       "      <td>2.0</td>\n",
       "      <td>8.0</td>\n",
       "    </tr>\n",
       "    <tr>\n",
       "      <th>3</th>\n",
       "      <td>1985</td>\n",
       "      <td>ATL</td>\n",
       "      <td>NL</td>\n",
       "      <td>campri01</td>\n",
       "      <td>633333</td>\n",
       "      <td>1</td>\n",
       "      <td>66</td>\n",
       "      <td>13</td>\n",
       "      <td>1</td>\n",
       "      <td>3</td>\n",
       "      <td>...</td>\n",
       "      <td>2.0</td>\n",
       "      <td>0.0</td>\n",
       "      <td>0.0</td>\n",
       "      <td>1</td>\n",
       "      <td>5.0</td>\n",
       "      <td>0.0</td>\n",
       "      <td>0.0</td>\n",
       "      <td>1.0</td>\n",
       "      <td>0.0</td>\n",
       "      <td>0.0</td>\n",
       "    </tr>\n",
       "    <tr>\n",
       "      <th>4</th>\n",
       "      <td>1985</td>\n",
       "      <td>ATL</td>\n",
       "      <td>NL</td>\n",
       "      <td>ceronri01</td>\n",
       "      <td>625000</td>\n",
       "      <td>1</td>\n",
       "      <td>96</td>\n",
       "      <td>282</td>\n",
       "      <td>15</td>\n",
       "      <td>61</td>\n",
       "      <td>...</td>\n",
       "      <td>25.0</td>\n",
       "      <td>0.0</td>\n",
       "      <td>3.0</td>\n",
       "      <td>29</td>\n",
       "      <td>25.0</td>\n",
       "      <td>1.0</td>\n",
       "      <td>1.0</td>\n",
       "      <td>0.0</td>\n",
       "      <td>4.0</td>\n",
       "      <td>15.0</td>\n",
       "    </tr>\n",
       "  </tbody>\n",
       "</table>\n",
       "<p>5 rows × 23 columns</p>\n",
       "</div>"
      ],
      "text/plain": [
       "   yearID teamID lgID   playerID  salary  stint   G   AB   R   H  ...   RBI  \\\n",
       "0    1985    ATL   NL  barkele01  870000      1  20   17   0   0  ...   0.0   \n",
       "1    1985    ATL   NL  bedrost01  550000      1  37   64   3   5  ...   1.0   \n",
       "2    1985    ATL   NL  benedbr01  545000      1  70  208  12  42  ...  20.0   \n",
       "3    1985    ATL   NL   campri01  633333      1  66   13   1   3  ...   2.0   \n",
       "4    1985    ATL   NL  ceronri01  625000      1  96  282  15  61  ...  25.0   \n",
       "\n",
       "    SB   CS  BB    SO  IBB  HBP   SH   SF  GIDP  \n",
       "0  0.0  1.0   0   7.0  0.0  0.0  0.0  0.0   0.0  \n",
       "1  0.0  0.0   1  22.0  0.0  0.0  6.0  0.0   0.0  \n",
       "2  0.0  1.0  22  12.0  1.0  1.0  4.0  2.0   8.0  \n",
       "3  0.0  0.0   1   5.0  0.0  0.0  1.0  0.0   0.0  \n",
       "4  0.0  3.0  29  25.0  1.0  1.0  0.0  4.0  15.0  \n",
       "\n",
       "[5 rows x 23 columns]"
      ]
     },
     "execution_count": 79,
     "metadata": {},
     "output_type": "execute_result"
    }
   ],
   "source": [
    "salary = pd.read_csv('Salaries.csv')\n",
    "batting = pd.read_csv('Batting.csv')\n",
    "# batting_salary = pd.merge(salary, batting, on='playerID', suffixes=('_salary', '_batting'))\n",
    "batting_salary = pd.merge(salary, batting, on=['playerID', 'yearID', 'teamID', 'lgID'], suffixes=('_salary', '_batting'))\n",
    "batting_salary.head()\n"
   ]
  },
  {
   "cell_type": "code",
   "execution_count": 80,
   "metadata": {},
   "outputs": [
    {
     "data": {
      "text/plain": [
       "<Axes: xlabel='playerID', ylabel='dollars_per_hit'>"
      ]
     },
     "execution_count": 80,
     "metadata": {},
     "output_type": "execute_result"
    },
    {
     "data": {
      "image/png": "[encoded data removed]",
      "text/plain": [
       "<Figure size 864x432 with 1 Axes>"
      ]
     },
     "metadata": {
      "needs_background": "light"
     },
     "output_type": "display_data"
    }
   ],
   "source": [
    "batting_salary['dollars_per_hit'] = batting_salary['salary'] / batting_salary['H']\n",
    "batting_salary_filtered = batting_salary[(batting_salary['salary'] > 0) & (batting_salary['H'] > 0)]\n",
    "batting_salary_sorted = batting_salary_filtered.sort_values(by='dollars_per_hit', ascending=True)\n",
    "top_10_value_players = batting_salary_sorted.head(10)\n",
    "plt.figure(figsize=(12, 6))\n",
    "sns.barplot(x='playerID', y='dollars_per_hit', data=top_10_value_players)\n",
    "# top_10_value_players.salary\n"
   ]
  },
  {
   "cell_type": "code",
   "execution_count": 87,
   "metadata": {},
   "outputs": [
    {
     "data": {
      "image/png": "[encoded data removed]",
      "text/plain": [
       "<Figure size 864x432 with 1 Axes>"
      ]
     },
     "metadata": {
      "needs_background": "light"
     },
     "output_type": "display_data"
    }
   ],
   "source": [
    "hof = pd.read_csv('HallOfFame.csv')\n",
    "hof_inducted = hof[hof['inducted'] == 'Y']\n",
    "hof_by_year = hof_inducted.groupby('yearid').size().reset_index(name='count')\n",
    "\n",
    "min_year = hof_by_year['yearid'].min()\n",
    "max_year = hof_by_year['yearid'].max()\n",
    "all_years = pd.DataFrame({'yearid': range(min_year, max_year + 1)})\n",
    "hof_by_year = pd.merge(all_years, hof_by_year, on='yearid', how='left').fillna(0)\n",
    "hof_by_year['count'] = hof_by_year['count'].astype(int)\n",
    "years_to_show = hof_by_year['yearid'][hof_by_year['yearid'] % 5 == 0]\n",
    "\n",
    "plt.figure(figsize=(12, 6))\n",
    "sns.barplot(x='yearid', y='count', data=hof_by_year)\n",
    "plt.title('Number of Hall of Fame Inductees by Year', fontsize=14)\n",
    "plt.xlabel('Year')\n",
    "plt.ylabel('Number of Inductees')\n",
    "plt.xticks(ticks=hof_by_year[hof_by_year['yearid'].isin(years_to_show)].index, labels=years_to_show, rotation=45)\n",
    "plt.show()\n"
   ]
  }
 ],
 "metadata": {
  "kernelspec": {
   "display_name": "Python 3",
   "language": "python",
   "name": "python3"
  },
  "language_info": {
   "codemirror_mode": {
    "name": "ipython",
    "version": 3
   },
   "file_extension": ".py",
   "mimetype": "text/x-python",
   "name": "python",
   "nbconvert_exporter": "python",
   "pygments_lexer": "ipython3",
   "version": "3.10.12"
  }
 },
 "nbformat": 4,
 "nbformat_minor": 2
}
