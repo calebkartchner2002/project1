{
 "cells": [
  {
   "cell_type": "markdown",
   "metadata": {},
   "source": [
    "Caleb - Looking at salaries of baseball players over time\n",
    "\n"
   ]
  },
  {
   "cell_type": "code",
   "execution_count": 93,
   "metadata": {},
   "outputs": [],
   "source": [
    "import pandas as pd\n",
    "import numpy as np\n",
    "from matplotlib import pyplot as plt\n",
    "import scipy.stats as stats\n",
    "import seaborn as sns"
   ]
  },
  {
   "cell_type": "code",
   "execution_count": null,
   "metadata": {},
   "outputs": [],
   "source": [
    "salary = pd.read_csv('Salaries.csv')\n",
    "batting = pd.read_csv('Batting.csv')\n",
    "# batting_salary = pd.merge(salary, batting, on='playerID', suffixes=('_salary', '_batting'))\n",
    "batting_salary = pd.merge(salary, batting, on=['playerID', 'yearID', 'teamID', 'lgID'], suffixes=('_salary', '_batting'))\n",
    "\n",
    "\n",
    "batting_salary['dollars_per_hit'] = batting_salary['salary'] / batting_salary['H']\n",
    "batting_salary_filtered = batting_salary[(batting_salary['salary'] > 0) & (batting_salary['H'] > 0)]\n",
    "batting_salary_sorted = batting_salary_filtered.sort_values(by='dollars_per_hit', ascending=True)\n",
    "top_10_value_players = batting_salary_sorted.head(10)\n",
    "plt.figure(figsize=(12, 6))\n",
    "sns.barplot(x='playerID', y='dollars_per_hit', data=top_10_value_players)\n"
   ]
  },
  {
   "cell_type": "code",
   "execution_count": null,
   "metadata": {},
   "outputs": [],
   "source": [
    "salary = pd.read_csv('Salaries.csv')\n",
    "batting = pd.read_csv('Batting.csv')\n",
    "\n",
    "# last 10 years\n",
    "recent_years = batting['yearID'].max() - 10\n",
    "batting_recent = batting[batting['yearID'] > recent_years]\n",
    "salary_recent = salary[salary['yearID'] > recent_years]\n",
    "\n",
    "batting_salary = pd.merge(salary_recent, batting_recent, on=['playerID', 'yearID', 'teamID', 'lgID'], suffixes=('_salary', '_batting'))\n",
    "batting_salary['dollars_per_hit'] = batting_salary['salary'] / batting_salary['H']\n",
    "batting_salary_filtered = batting_salary[(batting_salary['salary'] > 0) & (batting_salary['H'] > 0)]\n",
    "\n",
    "plt.figure(figsize=(12, 6))\n",
    "sns.kdeplot(x='H', y='salary', data=batting_salary_filtered, fill=True, cmap='viridis')\n",
    "sns.regplot(x='H', y='salary', data=batting_salary_filtered, scatter=False, color='red')\n",
    "plt.title('All Players (Last 10 Years): Salary vs Hits')\n",
    "plt.xlabel('Number of Hits')\n",
    "plt.ylabel('Salary')\n",
    "plt.show()\n"
   ]
  },
  {
   "cell_type": "code",
   "execution_count": null,
   "metadata": {},
   "outputs": [],
   "source": [
    "hof = pd.read_csv('HallOfFame.csv')\n",
    "hof_inducted = hof[hof['inducted'] == 'Y']\n",
    "hof_by_year = hof_inducted.groupby('yearid').size().reset_index(name='count')\n",
    "\n",
    "min_year = hof_by_year['yearid'].min()\n",
    "max_year = hof_by_year['yearid'].max()\n",
    "all_years = pd.DataFrame({'yearid': range(min_year, max_year + 1)})\n",
    "hof_by_year = pd.merge(all_years, hof_by_year, on='yearid', how='left').fillna(0)\n",
    "hof_by_year['count'] = hof_by_year['count'].astype(int)\n",
    "years_to_show = hof_by_year['yearid'][hof_by_year['yearid'] % 5 == 0]\n",
    "\n",
    "plt.figure(figsize=(12, 6))\n",
    "sns.barplot(x='yearid', y='count', data=hof_by_year)\n",
    "plt.title('Number of Hall of Fame Inductees by Year', fontsize=14)\n",
    "plt.xlabel('Year')\n",
    "plt.ylabel('Number of Inductees')\n",
    "plt.xticks(ticks=hof_by_year[hof_by_year['yearid'].isin(years_to_show)].index, labels=years_to_show, rotation=45)\n",
    "plt.show()"
   ]
  },
  {
   "cell_type": "code",
   "execution_count": null,
   "metadata": {},
   "outputs": [],
   "source": [
    "import pandas as pd\n",
    "from matplotlib import pyplot as plt\n",
    "import seaborn as sns\n",
    "\n",
    "college_playing = pd.read_csv('CollegePlaying.csv')\n",
    "players = pd.read_csv('People.csv')\n",
    "salaries = pd.read_csv('Salaries.csv')\n",
    "college_people = pd.merge(college_playing, players, on=['playerID'])\n",
    "salaries_college_people = pd.merge(college_people, salaries, on=['playerID'])\n",
    "salaries_college_people = salaries_college_people.drop_duplicates()\n",
    "salariesCollFiltered = salaries_college_people[(salaries_college_people['salary'] > 0)]\n",
    "salariesSorted = salariesCollFiltered.sort_values(by='salary', ascending=True)\n",
    "school_salaries = salariesSorted.groupby('schoolID')['salary'].sum().reset_index()\n",
    "\n",
    "# Sort by total salary in descending order to get the top salaries\n",
    "top_schools = school_salaries.sort_values(by='salary', ascending=False).head(10)\n",
    "\n",
    "plt.figure(figsize=(12, 6)) \n",
    "sns.barplot(x='schoolID', y='salary', data=top_schools)\n",
    "plt.show()"
   ]
  },
  {
   "cell_type": "code",
   "execution_count": null,
   "metadata": {},
   "outputs": [],
   "source": [
    "fielding_post = pd.read_csv('Fielding.csv')\n",
    "\n",
    "position_dp = fielding_post.groupby('POS')['DP'].sum().reset_index()\n",
    "\n",
    "# Create a bar plot\n",
    "plt.figure(figsize=(12, 6))\n",
    "sns.barplot(x='POS', y='DP', data=position_dp, color='skyblue')\n",
    "\n",
    "# Add titles and labels\n",
    "plt.title('Double Plays by Fielding Position')\n",
    "plt.xlabel('Fielding Position Involved in Double Play')\n",
    "plt.ylabel('Number of Double Plays')\n",
    "\n",
    "# Rotate x labels if needed for better readability\n",
    "plt.xticks(rotation=45)\n",
    "\n",
    "# Show the plot\n",
    "plt.show()"
   ]
  }
 ],
 "metadata": {
  "kernelspec": {
   "display_name": "Python 3 (ipykernel)",
   "language": "python",
   "name": "python3"
  },
  "language_info": {
   "codemirror_mode": {
    "name": "ipython",
    "version": 3
   },
   "file_extension": ".py",
   "mimetype": "text/x-python",
   "name": "python",
   "nbconvert_exporter": "python",
   "pygments_lexer": "ipython3",
   "version": "3.10.12"
  }
 },
 "nbformat": 4,
 "nbformat_minor": 4
}
